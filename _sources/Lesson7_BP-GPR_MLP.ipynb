{
  "nbformat": 4,
  "nbformat_minor": 0,
  "metadata": {
    "colab": {
      "provenance": [],
      "include_colab_link": true
    },
    "kernelspec": {
      "name": "python3",
      "display_name": "Python 3"
    },
    "language_info": {
      "name": "python"
    }
  },
  "cells": [
    {
      "cell_type": "markdown",
      "metadata": {
        "id": "view-in-github",
        "colab_type": "text"
      },
      "source": [
        "<a href=\"https://colab.research.google.com/github/cc-ats/mlp_tutorial/blob/main/Lesson7_BP-GPR_MLP.ipynb\" target=\"_parent\"><img src=\"https://colab.research.google.com/assets/colab-badge.svg\" alt=\"Open In Colab\"/></a>"
      ]
    },
    {
      "cell_type": "markdown",
      "source": [
        "# Lesson 7: Behler-Parrinello Gaussian Process Regression (BP-GPR) for Machine Learning Potentials\n",
        "\n",
        "\n",
        "$\\Delta$MLP with PyTorch for the Claisen Rearrangement reaction\n",
        "\n",
        "For this tutorial, we will be combining the Gaussian Process Regression (GPR) from Lesson 2 and the symmetry functions from the Behler-Parrinello and ANI models from Lesson 4 to train a $\\Delta$ Machine Learning Potential ($\\Delta$MLP) model to reproduce the energy and forces for the Claisen Rearrangement reaction. With a BP-GPR, we can use the BP symmetry functions for feature extraction and the GPR kernel for predicting observables. The goal of this model is to train with data that is from semiempirical (PM3) and DFT (B3LYP) levels of theory. The BP-GPR model will be used to correct the semiempirical values to obtain DFT level accuracy, that makes it a $\\Delta$MLP model."
      ],
      "metadata": {
        "id": "6ZczLhOzG8Wc"
      }
    },
    {
      "cell_type": "markdown",
      "source": [
        "##Importing PyTorch Lightning and Libraries\n",
        "\n",
        "We will first install PyTorch Lightning and import libraries needed to train our machine learning models"
      ],
      "metadata": {
        "id": "v208qXsE8h4F"
      }
    },
    {
      "cell_type": "code",
      "source": [
        "%%capture\n",
        "!pip install pytorch-lightning > /dev/null\n",
        "!pip install gpytorch > /dev/null\n",
        "\n",
        "import math\n",
        "from typing import Sequence, Tuple\n",
        "\n",
        "import torch\n",
        "import torch.nn as nn\n",
        "import torch.nn.functional as F\n",
        "from torch import Tensor\n",
        "import gpytorch\n",
        "\n",
        "from torch.utils.data import TensorDataset, DataLoader, random_split\n",
        "import pytorch_lightning as pl\n",
        "from pytorch_lightning import loggers as pl_loggers"
      ],
      "metadata": {
        "id": "uuyTEvnmwHBc"
      },
      "execution_count": null,
      "outputs": []
    },
    {
      "cell_type": "markdown",
      "source": [
        "##Defining Symmetry Functions\n",
        "\n",
        "Now we will define the radial symmetry functions:\n",
        "\n",
        "pairwise_vector: Distance function for calculating distances between each atom.\n",
        "\n",
        "symmetry_function_g1: BP radial symmetry function.\n",
        "\n",
        "symmetry_function_g2: BP angular symmetry function.\n",
        "\n",
        "symmetry_function_g2ani: ANI angular symmetry function"
      ],
      "metadata": {
        "id": "ng2talt98vmg"
      }
    },
    {
      "cell_type": "code",
      "source": [
        "def pairwise_vector(coords: Tensor) -> Tensor:\n",
        "    num_batches, num_channels, _ = coords.size()\n",
        "    rij = coords[:, :, None] - coords[:, None]\n",
        "    mask = ~torch.eye(num_channels, dtype=torch.bool, device=coords.device) # remove self-interaction\n",
        "    rij = torch.masked_select(rij, mask.unsqueeze(2)).view(num_batches, num_channels, num_channels - 1, 3)\n",
        "    return rij\n",
        "\n",
        "def symmetry_function_g1(rij: Tensor, Rcr: float, EtaR: Tensor, ShfR: Tensor) -> Tensor:\n",
        "    dij = torch.norm(rij, dim=3)\n",
        "    fij = (torch.cos(dij / Rcr * math.pi) + 1) * 0.5 * (dij <= Rcr)\n",
        "    g1 = torch.sum(torch.exp(-EtaR.unsqueeze(dim=2) * (dij.unsqueeze(dim=-1) - ShfR.unsqueeze(dim=2))**2) * fij.unsqueeze(dim=-1), dim=2)\n",
        "    return g1\n",
        "\n",
        "def symmetry_function_g2(rij: Tensor, Rca: float, Zeta: Tensor, EtaA: Tensor) -> Tensor:\n",
        "    c = torch.combinations(torch.arange(rij.size(2)), r=2)\n",
        "    print(c)\n",
        "    rij = rij[:, :, c]\n",
        "    r12 = rij[:, :, :, 0]\n",
        "    r13 = rij[:, :, :, 1]\n",
        "    r23 = r12 - r13\n",
        "    d12 = torch.norm(r12, dim=3)\n",
        "    d13 = torch.norm(r13, dim=3)\n",
        "    d23 = torch.norm(r23, dim=3)\n",
        "    f12 = (torch.cos(d12 / Rca * math.pi) + 1) * 0.5\n",
        "    f13 = (torch.cos(d13 / Rca * math.pi) + 1) * 0.5\n",
        "    f23 = (torch.cos(d23 / Rca * math.pi) + 1) * 0.5\n",
        "    cosine = torch.einsum('ijkl,ijkl->ijk', r12, r13) / (d12 * d13)\n",
        "\n",
        "    g2 = torch.sum(2**(1 - Zeta.unsqueeze(dim=2)) * (1 + cosine.unsqueeze(dim=-1))**Zeta.unsqueeze(dim=2) * torch.exp(-EtaA.unsqueeze(dim=2) * (d12**2 + d13**2 + d23**2).unsqueeze(dim=-1)) * (f12 * f13 * f23).unsqueeze(dim=-1), dim=2)\n",
        "    return g2\n",
        "\n",
        "def symmetry_function_g2ani(rij: Tensor, Rca: float, Zeta: Tensor, ShfZ: Tensor, EtaA: Tensor, ShfA: Tensor) -> Tensor:\n",
        "    c = torch.combinations(torch.arange(rij.size(2)), r=2)\n",
        "    rij = rij[:, :, c]\n",
        "    r12 = rij[:, :, :, 0]\n",
        "    r13 = rij[:, :, :, 1]\n",
        "\n",
        "    r23 = r12 - r13\n",
        "    d12 = torch.norm(r12, dim=3)\n",
        "    d13 = torch.norm(r13, dim=3)\n",
        "    f12 = (torch.cos(d12 / Rca * math.pi) + 1) * 0.5\n",
        "    f13 = (torch.cos(d13 / Rca * math.pi) + 1) * 0.5\n",
        "    cosine = torch.einsum('ijkl,ijkl->ijk', r12, r13) / (d12 * d13)\n",
        "    cosine = torch.cos(torch.acos(cosine).unsqueeze(dim=-1) - ShfA.unsqueeze(dim=2))\n",
        "    g2 = torch.sum(2**(1 - Zeta.unsqueeze(dim=2)) * (1 + cosine)**Zeta.unsqueeze(dim=2) * torch.exp(-EtaA.unsqueeze(dim=2) * (0.5 * (d12 + d13).unsqueeze(dim=-1) - ShfZ.unsqueeze(dim=2))**2) * (f12 * f13).unsqueeze(dim=-1), dim=2)\n",
        "    return g2\n"
      ],
      "metadata": {
        "id": "HGM0pzjQxA6J"
      },
      "execution_count": null,
      "outputs": []
    },
    {
      "cell_type": "markdown",
      "source": [
        "## Defining Feature Extraction Classes"
      ],
      "metadata": {
        "id": "5BVuAjaQ83gz"
      }
    },
    {
      "cell_type": "markdown",
      "source": [
        "### Defining the BP Feature Class\n",
        "\n",
        "Now we will create the feature class, which takes input information and uses functions to extract characteristics unique to the called input features. Here we will be using the previously defined symmetry functions for feature extraction."
      ],
      "metadata": {
        "id": "JdnQPFmMsRo-"
      }
    },
    {
      "cell_type": "code",
      "source": [
        "class Feature(nn.Module):\n",
        "    def __init__(self, Rcr: float, EtaR: Tensor, ShfR: Tensor, Rca: float, Zeta: Tensor, EtaA: Tensor) -> None:\n",
        "        super().__init__()\n",
        "        assert len(EtaR) == len(ShfR)\n",
        "        assert len(Zeta) == len(EtaA)\n",
        "        self.Rcr = Rcr\n",
        "        self.Rca = Rca\n",
        "        self.EtaR = torch.Tensor(EtaR)\n",
        "        self.ShfR = torch.Tensor(ShfR)\n",
        "        self.Zeta = torch.Tensor(Zeta)\n",
        "        self.EtaA = torch.Tensor(EtaA)\n",
        "\n",
        "    def forward(self, coords: Tensor, atom_types: Tensor) -> Tensor:\n",
        "        num_batches, num_channels, _ = coords.size()\n",
        "        rij = pairwise_vector(coords)\n",
        "        EtaR = self.EtaR[atom_types].to(device=coords.device)\n",
        "        ShfR = self.ShfR[atom_types].to(device=coords.device)\n",
        "        Zeta = self.Zeta[atom_types].to(device=coords.device)\n",
        "        EtaA = self.EtaA[atom_types].to(device=coords.device)\n",
        "        g1 = symmetry_function_g1(rij, self.Rcr, EtaR, ShfR)\n",
        "        g2 = symmetry_function_g2(rij, self.Rca, Zeta, EtaA)\n",
        "\n",
        "        return torch.concat((g1, g2), dim=2)\n",
        "\n",
        "    @property\n",
        "    def output_length(self) -> int:\n",
        "        return len(self.EtaR[0]) + len(self.EtaA[0])"
      ],
      "metadata": {
        "id": "FPztptTTxIFH"
      },
      "execution_count": null,
      "outputs": []
    },
    {
      "cell_type": "markdown",
      "source": [
        "### Defining the ANI Feature Class\n",
        "\n",
        "We will create a similar feature class for ANI that uses the ANI angle symmetry function.\n"
      ],
      "metadata": {
        "id": "jLAoPesH87am"
      }
    },
    {
      "cell_type": "code",
      "source": [
        "class FeatureANI(nn.Module):\n",
        "    def __init__(self, Rcr: float, EtaR: Tensor, ShfR: Tensor, Rca: float, Zeta: Tensor, ShfZ: Tensor, EtaA: Tensor, ShfA: Tensor) -> None:\n",
        "        super().__init__()\n",
        "        assert len(EtaR) == len(ShfR)\n",
        "        assert len(Zeta) == len(ShfZ) == len(EtaA) == len(ShfA)\n",
        "        self.Rcr = Rcr\n",
        "        self.Rca = Rca\n",
        "        self.EtaR = torch.Tensor(EtaR)\n",
        "        self.ShfR = torch.Tensor(ShfR)\n",
        "        self.Zeta = torch.Tensor(Zeta)\n",
        "        self.ShfZ = torch.Tensor(ShfZ)\n",
        "        self.EtaA = torch.Tensor(EtaA)\n",
        "        self.ShfA = torch.Tensor(ShfA)\n",
        "\n",
        "    def forward(self, coords: Tensor, atom_types: Tensor) -> Tensor:\n",
        "        num_batches, num_channels, _ = coords.size()\n",
        "        rij = pairwise_vector(coords)\n",
        "        EtaR = self.EtaR[atom_types].to(device=coords.device)\n",
        "        ShfR = self.ShfR[atom_types].to(device=coords.device)\n",
        "        Zeta = self.Zeta[atom_types].to(device=coords.device)\n",
        "        ShfZ = self.ShfZ[atom_types].to(device=coords.device)\n",
        "        EtaA = self.EtaA[atom_types].to(device=coords.device)\n",
        "        ShfA = self.ShfA[atom_types].to(device=coords.device)\n",
        "        g1 = symmetry_function_g1(rij, self.Rcr, EtaR, ShfR)\n",
        "        g2 = symmetry_function_g2ani(rij, self.Rca, Zeta, ShfZ, EtaA, ShfA)\n",
        "\n",
        "        return torch.concat((g1, g2), dim=2)\n",
        "\n",
        "    @property\n",
        "    def output_length(self) -> int:\n",
        "        return len(self.EtaR[0]) + len(self.EtaA[0])"
      ],
      "metadata": {
        "id": "uLYEFnZexP4g"
      },
      "execution_count": null,
      "outputs": []
    },
    {
      "cell_type": "markdown",
      "source": [
        "## Creating the BP-GPR Model\n"
      ],
      "metadata": {
        "id": "gyFHUEgp9CZy"
      }
    },
    {
      "cell_type": "markdown",
      "source": [
        "### Defining the BP-GPR Class\n",
        "\n",
        "This class will combine the symmetry functions with the GPR model."
      ],
      "metadata": {
        "id": "dL5HsXiEspio"
      }
    },
    {
      "cell_type": "code",
      "source": [
        "class BPGPR(gpytorch.models.ExactGP):\n",
        "    def __init__(self, descriptor: Tensor, Y: Tensor, likelihood, learning_rate=5e-4) -> None:\n",
        "        shape = descriptor.shape\n",
        "        X = descriptor #.reshape(shape[0], shape[1]*shape[2])\n",
        "        super(BPGPR, self).__init__(X, Y, likelihood)\n",
        "        self.mean_module = gpytorch.means.ConstantMean()\n",
        "        self.covar_module = gpytorch.kernels.ScaleKernel(gpytorch.kernels.RBFKernel())\n",
        "\n",
        "    def forward(self, x):\n",
        "        mean_x = self.mean_module(x)\n",
        "        covar_x = self.covar_module(x)\n",
        "        return gpytorch.distributions.MultivariateNormal(mean_x, covar_x)"
      ],
      "metadata": {
        "id": "lt8r5J9GxVpK"
      },
      "execution_count": null,
      "outputs": []
    },
    {
      "cell_type": "markdown",
      "source": [
        "### Importing Data and Seeding\n",
        "\n",
        "We will now import our semiempirical and DFT calculation data."
      ],
      "metadata": {
        "id": "-7Tv-R5NJSuF"
      }
    },
    {
      "cell_type": "code",
      "source": [
        "import numpy as np\n",
        "\n",
        "ds = np.DataSource(None)\n",
        "\n",
        "qm_coord = np.array(np.load(ds.open(\"https://github.com/cc-ats/mlp_tutorial/raw/main/Claisen_Rearrangement/qm_coord.npy\", \"rb\")), dtype=\"float32\")\n",
        "atom_types = np.loadtxt(ds.open(\"https://github.com/cc-ats/mlp_tutorial/raw/main/Claisen_Rearrangement/qm_elem.txt\", \"r\"), dtype=int)\n",
        "\n",
        "elems = np.unique(atom_types).tolist()\n",
        "atom_types = np.array([[elems.index(i) for i in atom_types]])\n",
        "atom_types = atom_types.repeat(len(qm_coord), axis=0)\n",
        "\n",
        "energy = np.array((np.load(ds.open(\"https://github.com/cc-ats/mlp_tutorial/raw/main/Claisen_Rearrangement/energy.npy\", \"rb\")) - np.load(ds.open(\"https://github.com/cc-ats/mlp_tutorial/raw/main/Claisen_Rearrangement/energy_sqm.npy\", \"rb\"))) * 27.2114 * 23.061, dtype=\"float32\")\n",
        "energy = energy - energy.mean()\n",
        "qm_gradient = np.array((np.load(ds.open(\"https://github.com/cc-ats/mlp_tutorial/raw/main/Claisen_Rearrangement/qm_grad.npy\", \"rb\")) - np.load(ds.open(\"https://github.com/cc-ats/mlp_tutorial/raw/main/Claisen_Rearrangement/qm_grad_sqm.npy\", \"rb\"))) * 27.2114 * 23.061 / 0.529177249, dtype=\"float32\")\n",
        "\n",
        "device = torch.device('cuda' if torch.cuda.is_available() else 'cpu')\n",
        "\n",
        "qm_coord = torch.from_numpy(qm_coord).to(device)\n",
        "atom_types = torch.from_numpy(atom_types).to(device)\n",
        "energy = torch.from_numpy(energy).to(device)\n",
        "qm_gradient = torch.from_numpy(qm_gradient).to(device)"
      ],
      "metadata": {
        "id": "QTw4Jjy8tC6m"
      },
      "execution_count": null,
      "outputs": []
    },
    {
      "cell_type": "markdown",
      "source": [
        "## Using ANI for Feature Extraction\n",
        "\n",
        "The ANI model is set to be used and the ANI parameters are defined.\n"
      ],
      "metadata": {
        "id": "s01tP30n9J1q"
      }
    },
    {
      "cell_type": "code",
      "source": [
        "ani = True\n",
        "\n",
        "if ani:\n",
        "  # From TorchANI\n",
        "  Rcr = 5.2000e+00\n",
        "  Rca = 3.5000e+00\n",
        "  EtaR = [1.6000000e+01]\n",
        "  ShfR = [9.0000000e-01,1.1687500e+00,1.4375000e+00,1.7062500e+00,1.9750000e+00,2.2437500e+00,2.5125000e+00,2.7812500e+00,3.0500000e+00,3.3187500e+00,3.5875000e+00,3.8562500e+00,4.1250000e+00,4.3937500e+00,4.6625000e+00,4.9312500e+00]\n",
        "  Zeta = [3.2000000e+01]\n",
        "  ShfZ = [1.9634954e-01,5.8904862e-01,9.8174770e-01,1.3744468e+00,1.7671459e+00,2.1598449e+00,2.5525440e+00,2.9452431e+00]\n",
        "  EtaA = [8.0000000e+00]\n",
        "  ShfA = [9.0000000e-01,1.5500000e+00,2.2000000e+00,2.8500000e+00]\n",
        "  EtaR, ShfR = np.array(np.meshgrid(EtaR, ShfR)).reshape(2, -1)\n",
        "  Zeta, ShfZ, EtaA, ShfA = np.array(np.meshgrid(Zeta, ShfZ, EtaA, ShfA)).reshape(4, -1)\n",
        "  EtaR = np.repeat([EtaR], 3, axis=0)\n",
        "  ShfR = np.repeat([ShfR], 3, axis=0)\n",
        "  Zeta = np.repeat([Zeta], 3, axis=0)\n",
        "  ShfZ = np.repeat([ShfZ], 3, axis=0)\n",
        "  EtaA = np.repeat([EtaA], 3, axis=0)\n",
        "  ShfA = np.repeat([ShfA], 3, axis=0)\n",
        "  descriptor = FeatureANI(Rcr, EtaR, ShfR, Rca, Zeta, ShfZ, EtaA, ShfA)\n",
        "else:\n",
        "  Rcr = 6.0\n",
        "  Rca = 6.0\n",
        "  ShfR = [[0.0, 0.0, 0.0, 0.0, 0.0, 0.0], [0.0, 0.0, 0.0, 0.0, 0.0, 0.0], [0.0, 0.0, 0.0, 0.0, 0.0, 0.0]] # H, C, O\n",
        "  EtaR = [[0.0, 0.04, 0.14, 0.32, 0.71, 1.79], [0.0, 0.04, 0.14, 0.32, 0.71, 1.79], [0.0, 0.04, 0.14, 0.32, 0.71, 1.79]] # H, C, O\n",
        "  Zeta = [[1, 2, 4, 8, 16, 32], [1, 2, 4, 8, 16, 32], [1, 2, 4, 8, 16, 32]] # H, C, O\n",
        "  EtaA = [[0.0, 0.04, 0.14, 0.32, 0.71, 1.79], [0.0, 0.04, 0.14, 0.32, 0.71, 1.79], [0.0, 0.04, 0.14, 0.32, 0.71, 1.79]] # H, C, O\n",
        "  descriptor = Feature(Rcr, EtaR, ShfR, Rca, Zeta, EtaA)\n",
        "\n"
      ],
      "metadata": {
        "id": "lAfRrZy1xj1y"
      },
      "execution_count": null,
      "outputs": []
    },
    {
      "cell_type": "markdown",
      "source": [
        "## GPR Hyperparameters"
      ],
      "metadata": {
        "id": "LUjFyU0UwYmx"
      }
    },
    {
      "cell_type": "markdown",
      "source": [
        "### Reshaping and Initializing\n",
        "\n",
        "The atom types and coordinates are reshaped with the energies for use in the regression kernel. Then the marginal likelihood function is initialized."
      ],
      "metadata": {
        "id": "1A--F-On9OFk"
      }
    },
    {
      "cell_type": "code",
      "source": [
        "nskip = 1\n",
        "\n",
        "# Reshape Matrix inputs to vector\n",
        "X = descriptor.forward(qm_coord, atom_types)[::nskip,:,:]\n",
        "shape = X.shape\n",
        "X  = X.reshape(shape[0], shape[1]*shape[2])\n",
        "Y = energy[::nskip]\n",
        "\n",
        "# Initialize likelihood and model\n",
        "likelihood = gpytorch.likelihoods.GaussianLikelihood()\n",
        "model = BPGPR(X, Y, likelihood)"
      ],
      "metadata": {
        "id": "daVvWWblxpIT"
      },
      "execution_count": null,
      "outputs": []
    },
    {
      "cell_type": "markdown",
      "source": [
        "### Training the GPR Hyperparameters\n",
        "\n",
        "Now we can begin training to optimize the GPR hyperparameters."
      ],
      "metadata": {
        "id": "0yjHzzd29UWG"
      }
    },
    {
      "cell_type": "code",
      "source": [
        "training_iter = 500\n",
        "\n",
        "# Find optimal model hyperparameters\n",
        "model.train()\n",
        "likelihood.train()\n",
        "\n",
        "# Use the adam optimizer\n",
        "optimizer = torch.optim.Adam(model.parameters(), lr=0.1)  # Includes GaussianLikelihood parameters\n",
        "\n",
        "# \"Loss\" for GPs - the marginal log likelihood\n",
        "mll = gpytorch.mlls.ExactMarginalLogLikelihood(likelihood, model)\n",
        "\n",
        "for i in range(training_iter):\n",
        "    # Zero gradients from previous iteration\n",
        "    optimizer.zero_grad()\n",
        "    # Output from model\n",
        "    output = model(X)\n",
        "    # Calc loss and backprop gradients\n",
        "    loss = -mll(output, Y)\n",
        "    loss.backward()\n",
        "    if (i+1) % 100 == 0:\n",
        "      print('Iter %d/%d - Loss: %.3f   outputscale: %.3f   lengthscale: %.3f   noise: %.3f' % (\n",
        "        i + 1, training_iter, loss.item(),\n",
        "        model.covar_module.outputscale.item(),\n",
        "        model.covar_module.base_kernel.lengthscale.item(),\n",
        "        model.likelihood.noise.item()\n",
        "    ))\n",
        "    optimizer.step()\n",
        "\n",
        "# Print Trained hyperparameters\n",
        "print('outputscale: ', model.covar_module.outputscale.item())\n",
        "print('lengthscale: ', model.covar_module.outputscale.item())\n",
        "print('noise: ', model.likelihood.noise.item())"
      ],
      "metadata": {
        "id": "WqSWoTHBxz7b",
        "colab": {
          "base_uri": "https://localhost:8080/"
        },
        "outputId": "3ada33e8-ed24-45e4-ef98-df30402e526f"
      },
      "execution_count": null,
      "outputs": [
        {
          "output_type": "stream",
          "name": "stdout",
          "text": [
            "Iter 100/500 - Loss: 1.702   outputscale: 2.950   lengthscale: 3.300   noise: 0.850\n",
            "Iter 200/500 - Loss: 1.521   outputscale: 4.567   lengthscale: 3.557   noise: 0.190\n",
            "Iter 300/500 - Loss: 1.438   outputscale: 5.948   lengthscale: 3.744   noise: 0.071\n",
            "Iter 400/500 - Loss: 1.414   outputscale: 7.177   lengthscale: 3.973   noise: 0.033\n",
            "Iter 500/500 - Loss: 1.383   outputscale: 8.251   lengthscale: 4.161   noise: 0.018\n",
            "outputscale:  8.262107849121094\n",
            "lengthscale:  8.262107849121094\n",
            "noise:  0.01817266270518303\n"
          ]
        }
      ]
    },
    {
      "cell_type": "markdown",
      "source": [
        "## Evaluating the Model's Accuracy"
      ],
      "metadata": {
        "id": "OkKS46hBwoEi"
      }
    },
    {
      "cell_type": "markdown",
      "source": [
        "### Evaluation of the Predicted Energy (RMSE)\n",
        "We will now calculate the RMSE for the energy and forces predicted by the BP-GPR mode"
      ],
      "metadata": {
        "id": "DHcSnXUqvmit"
      }
    },
    {
      "cell_type": "code",
      "source": [
        "model.eval()\n",
        "likelihood.eval()\n",
        "\n",
        "# Prepare testing set\n",
        "qm_coord = torch.autograd.Variable(qm_coord, requires_grad=True)\n",
        "X_test = descriptor.forward(qm_coord, atom_types)\n",
        "shape = X_test.shape\n",
        "X_test = X_test.reshape(shape[0], shape[1]*shape[2])\n",
        "\n",
        "# Make predictions\n",
        "y_preds = likelihood(model(X_test))\n",
        "\n",
        "y_mean = y_preds.mean\n",
        "y_var = y_preds.variance\n",
        "y_covar = y_preds.covariance_matrix\n",
        "\n",
        "def eval(ref, pred):\n",
        "    rmse = torch.sqrt(torch.mean((ref-pred)**2))\n",
        "    q2 = 1 - torch.sum((ref-pred)**2)/torch.sum((ref-torch.mean(ref))**2)\n",
        "    return rmse, q2\n",
        "\n",
        "print(torch.mean(y_var))\n",
        "# Evaluate performance on energy predictions\n",
        "y_rmse, y_q2 = eval(energy ,y_mean)\n",
        "print(\"Energy Prediction RMSE: \", y_rmse.item(),\"Q^2: \", y_q2.item())"
      ],
      "metadata": {
        "colab": {
          "base_uri": "https://localhost:8080/"
        },
        "id": "OLPc-bFlx6-t",
        "outputId": "d06218de-a5e5-4d9d-9c97-8042e1bd51b5"
      },
      "execution_count": null,
      "outputs": [
        {
          "output_type": "stream",
          "name": "stderr",
          "text": [
            "/usr/local/lib/python3.10/dist-packages/gpytorch/models/exact_gp.py:284: GPInputWarning: The input matches the stored training data. Did you forget to call model.train()?\n",
            "  warnings.warn(\n"
          ]
        },
        {
          "output_type": "stream",
          "name": "stdout",
          "text": [
            "tensor(0.0626, grad_fn=<MeanBackward0>)\n",
            "Energy Prediction RMSE:  0.0501834899187088 Q^2:  0.9998195171356201\n"
          ]
        }
      ]
    },
    {
      "cell_type": "markdown",
      "source": [
        "### Evaluation of the Predicted Forces (RMSE)"
      ],
      "metadata": {
        "id": "76P2oVOG9h1f"
      }
    },
    {
      "cell_type": "code",
      "source": [
        "auto_grad, = torch.autograd.grad(y_mean.sum(), [qm_coord])\n",
        "rmse = torch.sqrt(torch.mean((auto_grad - qm_gradient)**2))\n",
        "q2 = 1 - torch.sum((qm_gradient-auto_grad)**2)/torch.sum((qm_gradient-torch.mean(qm_gradient))**2)\n",
        "print(\"Force RMSE: \", rmse.item(), \"Q^2\", q2.item())"
      ],
      "metadata": {
        "colab": {
          "base_uri": "https://localhost:8080/"
        },
        "id": "UMcC9Uv4JhG1",
        "outputId": "c04f1df5-3994-448f-b91b-987a31dc4b26"
      },
      "execution_count": null,
      "outputs": [
        {
          "output_type": "stream",
          "name": "stdout",
          "text": [
            "Force RMSE:  4.0731353759765625 Q^2 0.8091156482696533\n"
          ]
        }
      ]
    },
    {
      "cell_type": "markdown",
      "source": [
        "### Plotting RMSD for the BP-GPR Model\n",
        "\n",
        "Here we plot the RMSD for the predicted and reference energy and forces for the BP-GPR model."
      ],
      "metadata": {
        "id": "LelFo-t29mo0"
      }
    },
    {
      "cell_type": "code",
      "source": [
        "import matplotlib.pyplot as plt\n",
        "\n",
        "fig, ax = plt.subplots(1,2,figsize=(10,5))\n",
        "\n",
        "e1 = energy.cpu().detach().numpy() + np.load(ds.open(\"https://github.com/cc-ats/mlp_tutorial/raw/main/Claisen_Rearrangement/energy_sqm.npy\",\"rb\")) * 27.2114 * 23.061\n",
        "e2 = y_mean.cpu().detach().numpy() + np.load(ds.open(\"https://github.com/cc-ats/mlp_tutorial/raw/main/Claisen_Rearrangement/energy_sqm.npy\",\"rb\")) * 27.2114 * 23.061\n",
        "ax[0].plot(e1, e2, linestyle='none', marker='.', color='springgreen')\n",
        "ax[0].plot([np.max(np.concatenate((e1,e2))), -np.max(np.concatenate((e1,e2)))], [np.max(np.concatenate((e1,e2))), -np.max(np.concatenate((e1,e2)))], color=\"k\", linewidth=1.5)\n",
        "ax[0].set_xlabel(\"Reference Energy (kcal/mol)\", size=14)\n",
        "ax[0].set_ylabel(\"Predicted Energy (kcal/mol)\", size=14)\n",
        "ax[0].annotate('RMSD: %.3f' % np.sqrt(np.mean((e1 - e2)**2)), xy=(0.05, 0.95), xycoords='axes fraction', size=14)\n",
        "\n",
        "f1 = -qm_gradient.cpu().detach().numpy().reshape(-1) - np.load(ds.open(\"https://github.com/cc-ats/mlp_tutorial/raw/main/Claisen_Rearrangement/qm_grad_sqm.npy\",\"rb\")).reshape(-1) * 27.2114 * 23.061 / 0.529177249\n",
        "f2 = -auto_grad.cpu().detach().numpy().reshape(-1) - np.load(ds.open(\"https://github.com/cc-ats/mlp_tutorial/raw/main/Claisen_Rearrangement/qm_grad_sqm.npy\",\"rb\")).reshape(-1) * 27.2114 * 23.061 / 0.529177249\n",
        "\n",
        "ax[1].plot(f1, f2, linestyle='none', marker='.', color='springgreen')\n",
        "plt.plot([-np.abs(np.max(np.concatenate((f1,f2)))), np.max(np.concatenate((f1,f2)))], [-np.max(np.concatenate((f1,f2))), np.max(np.concatenate((f1,f2)))], color=\"k\", linewidth=1.5)\n",
        "ax[1].set_xlabel(r\"Reference Force (kcal/mol/%\\AA$)\", size=14)\n",
        "ax[1].set_ylabel(r\"Predicted Force (kcal/mol/$\\AA$)\", size=14)\n",
        "ax[1].annotate('RMSD: %.3f' % np.sqrt(np.mean((f1 - f2)**2)), xy=(0.05, 0.95), xycoords='axes fraction', size=14)\n",
        "\n",
        "plt.tight_layout()\n",
        "plt.savefig('rmsd.png', dpi=300)"
      ],
      "metadata": {
        "colab": {
          "base_uri": "https://localhost:8080/",
          "height": 507
        },
        "id": "NbC3Mh98aEnQ",
        "outputId": "19c4d319-04c9-434e-d455-621e39c73320"
      },
      "execution_count": null,
      "outputs": [
        {
          "output_type": "display_data",
          "data": {
            "text/plain": [
              "<Figure size 1000x500 with 2 Axes>"
            ],
            "image/png": "[encoded data removed]"
          },
          "metadata": {}
        }
      ]
    },
    {
      "cell_type": "markdown",
      "source": [
        "### Tabulating the RMSE for the BP-GPR Model\n",
        "\n",
        "Finally, we can tabulate the RMSE for the BP-GPR model."
      ],
      "metadata": {
        "id": "GnnzS2tH9yy9"
      }
    },
    {
      "cell_type": "code",
      "source": [
        "qm_coord_train = torch.autograd.Variable(qm_coord[::nskip,:,:], requires_grad=True)\n",
        "X_train = descriptor.forward(qm_coord_train, atom_types[::nskip,:])\n",
        "shape = X_train.shape\n",
        "X_train = X_train.reshape(shape[0], shape[1]*shape[2])\n",
        "\n",
        "# Make predictions\n",
        "y_preds = likelihood(model(X_train))\n",
        "\n",
        "y_mean = y_preds.mean\n",
        "y_var = y_preds.variance\n",
        "y_covar = y_preds.covariance_matrix\n",
        "\n",
        "def eval(ref, pred):\n",
        "    rmse = torch.sqrt(torch.mean((ref-pred)**2))\n",
        "    q2 = 1 - torch.sum((ref-pred)**2)/torch.sum((ref-torch.mean(ref))**2)\n",
        "    return rmse, q2\n",
        "\n",
        "# Evaluate performance on energy predictions\n",
        "y_rmse, y_q2 = eval(Y ,y_mean)\n",
        "print(\"Energy Prediction RMSE: \", y_rmse.item(),\"Q^2: \", y_q2.item())\n",
        "\n",
        "# Evaluate Forces\n",
        "auto_grad, = torch.autograd.grad(y_mean.sum(), [qm_coord_train])\n",
        "rmse = torch.sqrt(torch.mean((auto_grad - qm_gradient[::nskip,:,:])**2))\n",
        "q2 = 1 - torch.sum((qm_gradient[::nskip,:,:]-auto_grad)**2)/torch.sum((qm_gradient[::nskip,:,:]-torch.mean(qm_gradient[::nskip,:,:]))**2)\n",
        "print(\"Force RMSE: \", rmse.item(), \"Q^2\", q2.item())"
      ],
      "metadata": {
        "colab": {
          "base_uri": "https://localhost:8080/"
        },
        "id": "wHcFRm-p3b_H",
        "outputId": "19763fb3-6008-489f-f0ac-3c1679588e6e"
      },
      "execution_count": null,
      "outputs": [
        {
          "output_type": "stream",
          "name": "stdout",
          "text": [
            "Energy Prediction RMSE:  0.0501834899187088 Q^2:  0.9998195171356201\n",
            "Force RMSE:  4.0731353759765625 Q^2 0.8091156482696533\n"
          ]
        }
      ]
    }
  ]
}